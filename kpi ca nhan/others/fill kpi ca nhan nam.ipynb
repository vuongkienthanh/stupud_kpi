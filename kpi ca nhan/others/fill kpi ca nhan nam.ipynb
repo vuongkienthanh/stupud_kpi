{
 "cells": [
  {
   "cell_type": "code",
   "execution_count": 1,
   "metadata": {},
   "outputs": [],
   "source": [
    "import pandas as pd\n",
    "from openpyxl import load_workbook\n",
    "import os.path\n",
    "import os"
   ]
  },
  {
   "cell_type": "code",
   "execution_count": 2,
   "metadata": {},
   "outputs": [
    {
     "name": "stdout",
     "output_type": "stream",
     "text": [
      "D:\\bsthanh\\kpi\\kpi ca nhan\\nam 2020\\ketqua\n",
      "D:\\bsthanh\\kpi\\kpi ca nhan\\nam 2020\\ketqua\\template\\bac si ngoai.xlsx\n",
      "D:\\bsthanh\\kpi\\kpi ca nhan\\nam 2020\\ketqua\\template\\bac si noi.xlsx\n",
      "D:\\bsthanh\\kpi\\kpi ca nhan\\nam 2020\\ketqua\\template\\dieu duong.xlsx\n",
      "       0                     1       2\n",
      "0  00086        HUỲNH HỮU DANH  Bác sĩ\n",
      "1  00698      VƯƠNG KIẾN THANH  Bác sĩ\n",
      "2  00726               TRẦN VŨ  Bác sĩ\n",
      "3  01461  NGUYẼN THỊ KIỀU HẠNH  Bác sĩ\n",
      "4  01466          MAI ĐỨC MẠNH  Bác sĩ\n",
      "       0                 1       2\n",
      "0  00253   QUÁCH NGỌC VINH  Bác sĩ\n",
      "1  00262       TRẦN ĐỖ LỢI  Bác sĩ\n",
      "2  01125  MAI THỊ LỆ HUYỀN  Bác sĩ\n",
      "3  01240     TỪ TUẤN THÀNH  Bác sĩ\n",
      "4  01247    HOÀNG MINH SƠN  Bác sĩ\n",
      "5  01246     ĐỖ THÀNH ĐÔNG  Bác sĩ\n",
      "        0                      1           2\n",
      "0   00252           QUÁCH HẢI VY  Điều dưỡng\n",
      "1   00837     TRẦN THỊ ÁNH TUYẾT  Điều dưỡng\n",
      "2   00976     PHẠM THỊ QUỲNH VÂN  Điều dưỡng\n",
      "3   01093        NGUYỄN MINH TÂN  Điều dưỡng\n",
      "4   01118    VÕ THỊ PHƯƠNG TRANG  Điều dưỡng\n",
      "5   01149         LÊ THỊ MỸ DUNG  Điều dưỡng\n",
      "6   01151  TRẦN THỊ THANH PHƯƠNG  Điều dưỡng\n",
      "7   01152    HUỲNH THỊ THỦY TIÊN  Điều dưỡng\n",
      "8   01480    DƯƠNG THỊ KIỀU OANH  Điều dưỡng\n",
      "9   01370        LÊ THỊ LIỄU CHI  Điều dưỡng\n",
      "10  01376       QUÁCH TUYẾT NGÂN  Điều dưỡng\n",
      "11  01403         DƯƠNG HỒNG NHO  Điều dưỡng\n",
      "Tổng số nhân viên: 26\n",
      "D:\\bsthanh\\kpi\\kpi ca nhan\\nam 2020\\ketqua\\bac si ngoai.xlsx\n",
      "D:\\bsthanh\\kpi\\kpi ca nhan\\nam 2020\\ketqua\\bac si noi.xlsx\n",
      "D:\\bsthanh\\kpi\\kpi ca nhan\\nam 2020\\ketqua\\dieu duong.xlsx\n"
     ]
    }
   ],
   "source": [
    "nam = 2020\n",
    "kq = True\n",
    "if kq:\n",
    "    cwd = r\"D:\\bsthanh\\kpi\\kpi ca nhan\\nam {}\\ketqua\".format(nam)\n",
    "else:\n",
    "    cwd = r\"D:\\bsthanh\\kpi\\kpi ca nhan\\nam {}\".format(nam)\n",
    "    \n",
    "template = os.path.join(cwd, \"template\")\n",
    "\n",
    "my_list = [\"bac si ngoai\", \"bac si noi\", \"dieu duong\"]\n",
    "tmpl_exl = [\"{}.xlsx\".format(name) for name in my_list]\n",
    "dsnv_csv = [r\"D:\\bsthanh\\kpi\\danh sach nhan vien\\danh sach {}.csv\".format(name) for name in my_list]\n",
    "dst_exl = [\"{}.xlsx\".format(name) for name in my_list]\n",
    "\n",
    "\n",
    "tmpl_list = [os.path.join(template, name) for name in tmpl_exl]\n",
    "dsnv_list = [pd.read_csv(name,header=None, dtype='object') for name in dsnv_csv]\n",
    "dst_list = [os.path.join(cwd, name) for name in dst_exl]\n",
    "\n",
    "print(cwd)\n",
    "for t in tmpl_list:\n",
    "    if os.path.exists(t):\n",
    "        print(t)\n",
    "    else:\n",
    "        print(t, \"doesn't exist\")\n",
    "for d in dsnv_list:\n",
    "    print(d)\n",
    "print(\"Tổng số nhân viên:\", sum([len(d) for d in dsnv_list]) + 3)\n",
    "for di in dst_list:\n",
    "    if os.path.exists(di):\n",
    "        print(di)\n",
    "    else:\n",
    "        print(di, \"doesn't exist\")"
   ]
  },
  {
   "cell_type": "code",
   "execution_count": 3,
   "metadata": {},
   "outputs": [
    {
     "name": "stdout",
     "output_type": "stream",
     "text": [
      "dir existed, changed systempath D:\\bsthanh\\kpi\\kpi ca nhan\\nam 2020\\ketqua\n"
     ]
    }
   ],
   "source": [
    "## change dir\n",
    "if os.path.isdir(cwd):\n",
    "    os.chdir(cwd)\n",
    "    print('dir existed, changed systempath', cwd)\n",
    "else:\n",
    "    os.mkdir(cwd)\n",
    "    os.chdir(cwd)\n",
    "    print('dir created, changed systempath', cwd)"
   ]
  },
  {
   "cell_type": "code",
   "execution_count": 4,
   "metadata": {},
   "outputs": [],
   "source": [
    "def fill_sheet(tmpl, ds, dst):\n",
    "    wb = load_workbook(tmpl)\n",
    "    ws_tmpl = wb['Sheet1']\n",
    "    for row in ds.itertuples(index=False):\n",
    "        ws = wb.copy_worksheet(ws_tmpl)\n",
    "        ws.title = row[1]\n",
    "        ws['D2'] = row[1]\n",
    "        ws['D3'] = row[0]\n",
    "    del wb['Sheet1']\n",
    "    wb.save(dst)"
   ]
  },
  {
   "cell_type": "code",
   "execution_count": 5,
   "metadata": {},
   "outputs": [],
   "source": [
    "for tmpl, ds, dst in zip(tmpl_list, dsnv_list, dst_list):\n",
    "    fill_sheet(tmpl, ds, dst)"
   ]
  },
  {
   "cell_type": "code",
   "execution_count": null,
   "metadata": {},
   "outputs": [],
   "source": []
  },
  {
   "cell_type": "code",
   "execution_count": null,
   "metadata": {},
   "outputs": [],
   "source": []
  }
 ],
 "metadata": {
  "kernelspec": {
   "display_name": "Python 3",
   "language": "python",
   "name": "python3"
  },
  "language_info": {
   "codemirror_mode": {
    "name": "ipython",
    "version": 3
   },
   "file_extension": ".py",
   "mimetype": "text/x-python",
   "name": "python",
   "nbconvert_exporter": "python",
   "pygments_lexer": "ipython3",
   "version": "3.8.6"
  }
 },
 "nbformat": 4,
 "nbformat_minor": 4
}
